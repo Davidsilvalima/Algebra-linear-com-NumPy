{
 "cells": [
  {
   "attachments": {
    "2020-10-30_01-20-10-843e77c1e2bc2929177b77ea963fa835.png": {
     "image/png": "[encoded data removed]"
    }
   },
   "cell_type": "markdown",
   "id": "c0c5d6fd",
   "metadata": {},
   "source": [
    "    Defina as matrizes abaixo utilizando o NumPy. Use o método np.array().\n",
    "![2020-10-30_01-20-10-843e77c1e2bc2929177b77ea963fa835.png](attachment:2020-10-30_01-20-10-843e77c1e2bc2929177b77ea963fa835.png)\n",
    "\n",
    "Lembrete: podemos observar que as matrizes B e C são matrizes quadradas, pois o número de linhas é igual ao número de colunas."
   ]
  },
  {
   "cell_type": "code",
   "execution_count": 2,
   "id": "8daa848d",
   "metadata": {},
   "outputs": [
    {
     "name": "stdout",
     "output_type": "stream",
     "text": [
      "[[ 1  2  3]\n",
      " [ 2  1 -1]]\n",
      "[[ 1 -2  0]\n",
      " [ 3  0  1]\n",
      " [ 4  5  6]]\n",
      "[[1 2 3]\n",
      " [4 5 6]\n",
      " [7 8 9]]\n",
      "[[ 1]\n",
      " [ 4]\n",
      " [-3]]\n"
     ]
    }
   ],
   "source": [
    "import numpy as np \n",
    "A = np.array([[1,2,3], [2, 1, -1]])\n",
    "print(A)\n",
    "B= np.array([[1, -2, 0], [3, 0, 1], [4, 5, 6]])\n",
    "print(B)\n",
    "C= np.array(range(1, 10)).reshape(3, 3)\n",
    "print(C)\n",
    "D= np.array([[1], [4], [-3]])\n",
    "print(D)"
   ]
  },
  {
   "attachments": {
    "2020-10-30_01-22-51-956b3852646c780d0f9399eec5e56ed6.png": {
     "image/png": "[encoded data removed]"
    }
   },
   "cell_type": "markdown",
   "id": "b608c871",
   "metadata": {},
   "source": [
    "Exercício 2\n",
    "    Definindo Matrizes \n",
    "Defina as matrizes abaixo utilizando o NumPy. Use o método np.array().\n",
    "![2020-10-30_01-22-51-956b3852646c780d0f9399eec5e56ed6.png](attachment:2020-10-30_01-22-51-956b3852646c780d0f9399eec5e56ed6.png)"
   ]
  },
  {
   "cell_type": "code",
   "execution_count": 5,
   "id": "acc43a38",
   "metadata": {},
   "outputs": [
    {
     "name": "stdout",
     "output_type": "stream",
     "text": [
      "[[1]\n",
      " [2]\n",
      " [3]\n",
      " [4]\n",
      " [5]\n",
      " [6]]\n",
      "[[  1]\n",
      " [  0]\n",
      " [  3]\n",
      " [-10]]\n",
      "[[1]\n",
      " [2]\n",
      " [3]\n",
      " [4]\n",
      " [5]]\n"
     ]
    }
   ],
   "source": [
    "E= np.array(range(1, 7)).reshape(6, 1)\n",
    "print(E)\n",
    "F= np.array([1, 0, 3, -10]).reshape(-1, 1)\n",
    "print(F)\n",
    "G= np.array(range(1, 6)).reshape(-1, 1)\n",
    "print(G)"
   ]
  },
  {
   "attachments": {
    "2020-10-30_01-26-29-eae8695f549702e05763a13a7f5f3400.png": {
     "image/png": "[encoded data removed]"
    }
   },
   "cell_type": "markdown",
   "id": "ccf46ea7",
   "metadata": {},
   "source": [
    "Exercício 3\n",
    "    Definindo Matrizes\n",
    "Defina as matrizes abaixo utilizando o NumPy. Use o método np.array().\n",
    "\n",
    "![2020-10-30_01-26-29-eae8695f549702e05763a13a7f5f3400.png](attachment:2020-10-30_01-26-29-eae8695f549702e05763a13a7f5f3400.png)\n"
   ]
  },
  {
   "cell_type": "code",
   "execution_count": 9,
   "id": "de261e26",
   "metadata": {},
   "outputs": [
    {
     "name": "stdout",
     "output_type": "stream",
     "text": [
      "[[1. 0.]\n",
      " [0. 1.]]\n",
      "[[1. 0. 0.]\n",
      " [0. 1. 0.]\n",
      " [0. 0. 1.]]\n",
      "[[1. 0. 0. 0. 0. 0.]\n",
      " [0. 1. 0. 0. 0. 0.]\n",
      " [0. 0. 1. 0. 0. 0.]\n",
      " [0. 0. 0. 1. 0. 0.]\n",
      " [0. 0. 0. 0. 1. 0.]\n",
      " [0. 0. 0. 0. 0. 1.]]\n"
     ]
    }
   ],
   "source": [
    "A= np.zeros(shape=(2,2))\n",
    "B= np.zeros(shape=(3,5))\n",
    "C= np.ones(shape=(5,5))\n",
    "I2 = np.eye(2)\n",
    "I3 = np.eye(3)\n",
    "I6 = np.eye(6)\n",
    "print(I2)\n",
    "print(I3)\n",
    "print(I6)"
   ]
  },
  {
   "attachments": {
    "2020-10-30_01-29-42-de11c3da6bb33565896430b2409dac25.png": {
     "image/png": "[encoded data removed]"
    }
   },
   "cell_type": "markdown",
   "id": "0698347a",
   "metadata": {},
   "source": [
    "Exercício 4\n",
    "    Definindo Matrizes\n",
    "Defina a matrizes triangulares abaixo utilizando o NumPy. Use os métodos np.triu() e np.tril().\n",
    "\n",
    "Para informações acesse a documentação:\n",
    "\n",
    "https://numpy.org/doc/stable/reference/generated/numpy.tril.html\n",
    "\n",
    "https://numpy.org/doc/stable/reference/generated/numpy.triu.html\n",
    "\n",
    "![2020-10-30_01-29-42-de11c3da6bb33565896430b2409dac25.png](attachment:2020-10-30_01-29-42-de11c3da6bb33565896430b2409dac25.png)"
   ]
  },
  {
   "cell_type": "code",
   "execution_count": 11,
   "id": "fcecf434",
   "metadata": {},
   "outputs": [
    {
     "name": "stdout",
     "output_type": "stream",
     "text": [
      "[[1 2 3]\n",
      " [0 5 6]\n",
      " [0 0 9]]\n",
      "[[1 0 0]\n",
      " [4 5 0]\n",
      " [7 8 9]]\n",
      "[[100 101 102 103 104]\n",
      " [  0 106 107 108 109]\n",
      " [  0   0 112 113 114]\n",
      " [  0   0   0 118 119]\n",
      " [  0   0   0   0 124]]\n"
     ]
    }
   ],
   "source": [
    "A = np.triu(np.arange(1, 10).reshape(3, 3), k=0)\n",
    "B = np.tril(np.arange(1, 10).reshape(3, 3), k=0)\n",
    "C = np.triu(np.arange(100, 125).reshape(5, 5))\n",
    "print(A)\n",
    "print(B)\n",
    "print(C)"
   ]
  },
  {
   "attachments": {
    "2020-10-30_01-31-51-fba26c0136181c2dc66e0bdd9893ae3d.png": {
     "image/png": "[encoded data removed]"
    }
   },
   "cell_type": "markdown",
   "id": "2f07a214",
   "metadata": {},
   "source": [
    "Exercício 5\n",
    "    Definindo Matrizes\n",
    "Defina as matrizes abaixo utilizando o NumPy. Use os métodos np.diag() e np.array().\n",
    "![2020-10-30_01-31-51-fba26c0136181c2dc66e0bdd9893ae3d.png](attachment:2020-10-30_01-31-51-fba26c0136181c2dc66e0bdd9893ae3d.png)"
   ]
  },
  {
   "cell_type": "code",
   "execution_count": 13,
   "id": "e11d7ff9",
   "metadata": {},
   "outputs": [
    {
     "name": "stdout",
     "output_type": "stream",
     "text": [
      "[[ 7  0  0]\n",
      " [ 0  1  0]\n",
      " [ 0  0 -1]]\n",
      "[[3 0 0 0]\n",
      " [0 3 0 0]\n",
      " [0 0 3 0]\n",
      " [0 0 0 3]]\n",
      "[[-5  0  0  0  0]\n",
      " [ 0 -4  0  0  0]\n",
      " [ 0  0 -3  0  0]\n",
      " [ 0  0  0 -2  0]\n",
      " [ 0  0  0  0 -1]]\n"
     ]
    }
   ],
   "source": [
    "A = np.diag([7, 1, -1])\n",
    "B = np.diag([3]*4)\n",
    "C = np.diag(range(-5, 0))\n",
    "print(A)\n",
    "print(B)\n",
    "print(C)"
   ]
  },
  {
   "attachments": {
    "2020-10-30_01-33-56-855511f2f4dea3bd2ef789ca0560463a.png": {
     "image/png": "[encoded data removed]"
    }
   },
   "cell_type": "markdown",
   "id": "c9d87413",
   "metadata": {},
   "source": [
    "Exercício 1    \n",
    "    Operações matriciais\n",
    "Defina as matrizes A e B dadas a seguir e obtenha A+B.\n",
    "![2020-10-30_01-33-56-855511f2f4dea3bd2ef789ca0560463a.png](attachment:2020-10-30_01-33-56-855511f2f4dea3bd2ef789ca0560463a.png)"
   ]
  },
  {
   "cell_type": "code",
   "execution_count": 14,
   "id": "1aed2cff",
   "metadata": {},
   "outputs": [
    {
     "name": "stdout",
     "output_type": "stream",
     "text": [
      "[[11 36]\n",
      " [ 8  5]\n",
      " [-2 -6]]\n"
     ]
    }
   ],
   "source": [
    "A = np.array([[10, 11], [5, 1], [-2, 4]])\n",
    "B = np.array([[1, 25], [3, 4], [0, -10]])\n",
    "soma = A+B\n",
    "print(soma)"
   ]
  },
  {
   "attachments": {
    "2020-10-30_01-42-53-b5c02f8d2e1d95efa6f6d5f623395052.png": {
     "image/png": "[encoded data removed]"
    }
   },
   "cell_type": "markdown",
   "id": "aee7f9b1",
   "metadata": {},
   "source": [
    "Exercício 2\n",
    "    Operações matriciais\n",
    "Para as matrizes a seguir,\n",
    "![2020-10-30_01-42-53-b5c02f8d2e1d95efa6f6d5f623395052.png](attachment:2020-10-30_01-42-53-b5c02f8d2e1d95efa6f6d5f623395052.png)\n",
    "\n"
   ]
  },
  {
   "cell_type": "code",
   "execution_count": 15,
   "id": "a969e130",
   "metadata": {},
   "outputs": [
    {
     "name": "stdout",
     "output_type": "stream",
     "text": [
      "[[ True  True]\n",
      " [ True  True]\n",
      " [ True  True]]\n",
      "[[ True  True]\n",
      " [ True  True]\n",
      " [ True  True]]\n",
      "[[ True  True]\n",
      " [ True  True]\n",
      " [ True  True]]\n"
     ]
    }
   ],
   "source": [
    "A = np.array([[10, 11], [5, 1], [-2, 4]])\n",
    "B = np.array([[1, 25], [3, 4], [0, -10]])\n",
    "C = np.array([[7, 3], [6, 1], [0, 0]])\n",
    "zero = np.zeros(shape=(3, 2))\n",
    "print(A+B==B+A)\n",
    "print((A+(B+C))==((A+B)+C))\n",
    "print(A+zero==A)"
   ]
  },
  {
   "attachments": {
    "2020-10-30_01-45-44-4e209918faa4da451557fb38df6280f3.png": {
     "image/png": "[encoded data removed]"
    }
   },
   "cell_type": "markdown",
   "id": "9864fdfc",
   "metadata": {},
   "source": [
    "Operações matriciais - Exercício 3\n",
    "Sejam as matrizes definidas a seguir, calculemos o que se pede na sequência.\n",
    "\n",
    "![2020-10-30_01-45-44-4e209918faa4da451557fb38df6280f3.png](attachment:2020-10-30_01-45-44-4e209918faa4da451557fb38df6280f3.png)\n",
    "\n",
    "A+B\n",
    "\n",
    "A.C (multiplicação de matrizes)\n",
    "\n",
    "B.C\n",
    "\n",
    "C.D\n",
    "\n",
    "D.A\n",
    "\n",
    "D.B\n",
    "\n",
    "-A\n",
    "\n",
    "-D\n",
    "\n",
    "2A+3B\n",
    "\n",
    "Este exercício é uma adaptção de BOLDRINI, J. et al. Álgebra Linear. São Paulo: Harbra, 1986."
   ]
  },
  {
   "cell_type": "code",
   "execution_count": 18,
   "id": "cc808fea",
   "metadata": {},
   "outputs": [
    {
     "name": "stdout",
     "output_type": "stream",
     "text": [
      "A+B: [[-1  2  4]\n",
      " [ 5  1  0]]\n",
      "A.C [[15]\n",
      " [-4]]\n",
      "B.C [[6]\n",
      " [1]]\n",
      "C.D [[-2  1]\n",
      " [ 4 -2]\n",
      " [ 8 -4]]\n",
      "D.A [[0 3 7]]\n",
      "D.B [[-7  0  1]]\n",
      "-A [[-1 -2 -3]\n",
      " [-2 -1  1]]\n",
      "-D [[-2  1]]\n",
      "2A+3B: [[-4  4  9]\n",
      " [13  2  1]]\n"
     ]
    }
   ],
   "source": [
    "A = np.array([[1, 2, 3], [2, 1, -1]])\n",
    "B = np.array([[-2, 0, 1], [3, 0, 1]])\n",
    "C = np.array([[-1], [2], [4]])\n",
    "D = np.array([[2, -1]])\n",
    "#1\n",
    "print('A+B:', A+B)\n",
    "#2\n",
    "print('A.C', A.dot(C))\n",
    "#3\n",
    "print('B.C', B.dot(C))\n",
    "#4\n",
    "print('C.D', C.dot(D))\n",
    "#5\n",
    "print('D.A', D.dot(A))\n",
    "#6\n",
    "print('D.B', D.dot(B))\n",
    "#7\n",
    "print('-A', (-1)*(A))\n",
    "#8\n",
    "print('-D', (-1)*D)\n",
    "#9\n",
    "print('2A+3B:', 2*A+3*B)"
   ]
  },
  {
   "attachments": {
    "2020-10-30_01-47-27-3683ce7af41e5d2637a15fdc043f711c.png": {
     "image/png": "[encoded data removed]"
    }
   },
   "cell_type": "markdown",
   "id": "3438d65a",
   "metadata": {},
   "source": [
    "Exercício 4\n",
    "Operações matriciais\n",
    "Sejam as matrizes A,B e C. Mostre que:\n",
    "![2020-10-30_01-47-27-3683ce7af41e5d2637a15fdc043f711c.png](attachment:2020-10-30_01-47-27-3683ce7af41e5d2637a15fdc043f711c.png)"
   ]
  },
  {
   "cell_type": "code",
   "execution_count": 19,
   "id": "aa980052",
   "metadata": {},
   "outputs": [
    {
     "name": "stdout",
     "output_type": "stream",
     "text": [
      "[[False False False  True]\n",
      " [False False False False]]\n"
     ]
    }
   ],
   "source": [
    "A = np.array([[1, -3, 2], [2, 1, -1]])\n",
    "B = np.array([[1, 4, 1, 0], [2, 1, 1, 1], [1, -2, 1, 2]])\n",
    "c = np.array([[2, 1, -1, -2], [3, -2, -1, -1], [1, -2, 1, 2]])\n",
    "print(A.dot(B) == A.dot(C))"
   ]
  },
  {
   "attachments": {
    "2020-10-30_01-49-33-e0a8d729ce539950d91e7c17fc0529a2.png": {
     "image/png": "[encoded data removed]"
    }
   },
   "cell_type": "markdown",
   "id": "4c54700f",
   "metadata": {},
   "source": [
    "Exercício 1\n",
    "Matriz Transposta\n",
    "Podemos obter a transposta de uma matriz permutando as linhas pelas colunas de mesmo índice(ou seja, o que é linha se transforma em coluna e o que é coluna se transforma em linha). Obtenha a Matriz transposta das matrizes a seguir:\n",
    "\n",
    "\n",
    "Exemplo: Seja a matriz A definida a seguir, podemos obter sua transposta da seguinte forma:\n",
    "![2020-10-30_01-49-33-e0a8d729ce539950d91e7c17fc0529a2.png](attachment:2020-10-30_01-49-33-e0a8d729ce539950d91e7c17fc0529a2.png)"
   ]
  },
  {
   "cell_type": "code",
   "execution_count": 20,
   "id": "9fbc64c6",
   "metadata": {},
   "outputs": [
    {
     "name": "stdout",
     "output_type": "stream",
     "text": [
      "[[ 1  2  4]\n",
      " [-3  1 -3]\n",
      " [ 2 -3 -1]] Transposta de A\n",
      "[[ 1 -7 25]\n",
      " [ 0  5  9]\n",
      " [ 4  5 11]] Transposta de B\n"
     ]
    }
   ],
   "source": [
    "A= np.array([[1, -3, 2], [2, 1, -3], [4, -3, -1]])\n",
    "B= np.array([[1, 0, 4], [-7, 5, 5], [25, 9, 11]])\n",
    "print(A.T, 'Transposta de A') #ou  A.transpose()\n",
    "print(B.transpose(), 'Transposta de B')"
   ]
  },
  {
   "attachments": {
    "2020-10-30_01-52-40-551b73b187133edfd4befc1602077c5d.png": {
     "image/png": "[encoded data removed]"
    }
   },
   "cell_type": "markdown",
   "id": "73f61943",
   "metadata": {},
   "source": [
    "Exercício 1\n",
    "Determinante\n",
    "Obtenha o determinante das matrizes a seguir. Utilize o método np.linalg.det().\n",
    "![2020-10-30_01-52-40-551b73b187133edfd4befc1602077c5d.png](attachment:2020-10-30_01-52-40-551b73b187133edfd4befc1602077c5d.png)"
   ]
  },
  {
   "cell_type": "code",
   "execution_count": 26,
   "id": "634010dd",
   "metadata": {},
   "outputs": [
    {
     "name": "stdout",
     "output_type": "stream",
     "text": [
      "[[5]]\n",
      "5.0\n",
      "[[1 2]\n",
      " [3 4]]\n",
      "-2.0\n",
      "[[-3 -8]\n",
      " [-5 -2]]\n",
      "-34.0\n",
      "[[1. 0.]\n",
      " [0. 1.]]\n",
      "1.0\n"
     ]
    }
   ],
   "source": [
    "A = np.array([[5]])\n",
    "B = np.array([[1, 2], [3, 4]])\n",
    "C = np.array([[-3, -8], [-5, -2]])\n",
    "D = np.eye(2)\n",
    "det_A = np.linalg.det(A).round()\n",
    "print(A)\n",
    "print(det_A)\n",
    "det_B = np.linalg.det(B).round()\n",
    "print(B)\n",
    "print(det_B)\n",
    "det_C = np.linalg.det(C).round()\n",
    "print(C)\n",
    "print(det_C)\n",
    "det_D = np.linalg.det(D).round()\n",
    "print(D)\n",
    "print(det_D)"
   ]
  },
  {
   "attachments": {
    "2020-10-30_01-54-13-52681bd434d74d95eae658e5ba7d7d89.png": {
     "image/png": "[encoded data removed]"
    }
   },
   "cell_type": "markdown",
   "id": "5137a0fa",
   "metadata": {},
   "source": [
    "Exercício 2\n",
    "    Determinante\n",
    "Obtenha o determinante das matrizes a seguir. Utilize o método np.linalg.det().\n",
    "![2020-10-30_01-54-13-52681bd434d74d95eae658e5ba7d7d89.png](attachment:2020-10-30_01-54-13-52681bd434d74d95eae658e5ba7d7d89.png)"
   ]
  },
  {
   "cell_type": "code",
   "execution_count": 5,
   "id": "19301791",
   "metadata": {},
   "outputs": [
    {
     "name": "stdout",
     "output_type": "stream",
     "text": [
      "[[ 3  1  4]\n",
      " [10  7  5]\n",
      " [ 1  4  4]]\n",
      "[[1. 0. 0.]\n",
      " [0. 1. 0.]\n",
      " [0. 0. 1.]]\n",
      "[[ 5  0  0]\n",
      " [ 0 10  0]\n",
      " [ 0  0  2]]\n",
      "[[ 3  0  0  0]\n",
      " [ 0  7  0  0]\n",
      " [ 0  0 11  0]\n",
      " [ 0  0  0  2]]\n",
      "[[ 5  0 13 12]\n",
      " [ 1 -1 25  7]\n",
      " [ 6  2  1 20]\n",
      " [11  4  0 -9]]\n"
     ]
    }
   ],
   "source": [
    "A = np.array([[3, 1, 4], [10, 7, 5], [1, 4, 4]])\n",
    "B = np.eye(3)\n",
    "C = np.diag([5, 10, 2])\n",
    "D = np.diag([3, 7, 11, 2])\n",
    "E = np.array([[5, 0, 13, 12], [1, -1, 25, 7], [6, 2, 1, 20], [11, 4, 0, -9]])\n",
    "det_A = np.linalg.det(A).round()\n",
    "det_B = np.linalg.det(B).round()\n",
    "det_C = np.linalg.det(C).round()\n",
    "det_D = np.linalg.det(D).round()\n",
    "det_E = np.linalg.det(E).round()\n",
    "print(A)\n",
    "print(B)\n",
    "print(C)\n",
    "print(D)\n",
    "print(E)"
   ]
  },
  {
   "attachments": {
    "2020-10-30_01-55-17-ccdc9264322b7592a0cfb82e835b0721.png": {
     "image/png": "[encoded data removed]"
    }
   },
   "cell_type": "markdown",
   "id": "5526027c",
   "metadata": {},
   "source": [
    "Exercício 3\n",
    "    Determinante\n",
    "Dadas as matrizes A e B, calcule:\n",
    "\n",
    "detA+detB\n",
    "\n",
    "det(A+B)![2020-10-30_01-55-17-ccdc9264322b7592a0cfb82e835b0721.png](attachment:2020-10-30_01-55-17-ccdc9264322b7592a0cfb82e835b0721.png)\n",
    "\n",
    "Este exercício é uma adaptção de BOLDRINI, J. et al. Álgebra Linear. São Paulo: Harbra, 1986."
   ]
  },
  {
   "cell_type": "code",
   "execution_count": 7,
   "id": "6f823aeb",
   "metadata": {},
   "outputs": [
    {
     "name": "stdout",
     "output_type": "stream",
     "text": [
      "1.0\n",
      "3.0\n",
      "[[1 2]\n",
      " [1 0]]\n",
      "[[ 3 -1]\n",
      " [ 0  1]]\n"
     ]
    }
   ],
   "source": [
    "A = np.array([[1, 2], [1, 0]])\n",
    "B = np.array([[3, -1], [0, 1]])\n",
    "#a\n",
    "det_A = np.linalg.det(A).round()\n",
    "det_B = np.linalg.det(B).round()\n",
    "print(det_A+det_B)\n",
    "#b\n",
    "soma = A+B\n",
    "det_soma = np.linalg.det(soma).round()\n",
    "print(det_soma)\n",
    "print(A)\n",
    "print(B)"
   ]
  },
  {
   "attachments": {
    "2020-10-30_01-56-19-2bb0297265e22d4683f934a474974408.png": {
     "image/png": "[encoded data removed]"
    }
   },
   "cell_type": "markdown",
   "id": "daf55bec",
   "metadata": {},
   "source": [
    "Exercício 1    \n",
    "    Matriz Inversa\n",
    "Encontre a inversa das matrizes abaixo. Use o método np.linalg.inv().\n",
    "![2020-10-30_01-56-19-2bb0297265e22d4683f934a474974408.png](attachment:2020-10-30_01-56-19-2bb0297265e22d4683f934a474974408.png)"
   ]
  },
  {
   "cell_type": "code",
   "execution_count": 11,
   "id": "e6499916",
   "metadata": {},
   "outputs": [
    {
     "name": "stdout",
     "output_type": "stream",
     "text": [
      "[[1 2]\n",
      " [3 4]]\n",
      "[[-1  3]\n",
      " [ 5  4]]\n",
      "[[-0.21052632  0.15789474]\n",
      " [ 0.26315789  0.05263158]]\n",
      "[[-2.   1. ]\n",
      " [ 1.5 -0.5]]\n"
     ]
    }
   ],
   "source": [
    "A= np.array([[1, 2], [3, 4]])\n",
    "B= np.array([[-1, 3], [5, 4]])\n",
    "A_inversa = np.linalg.inv(A)\n",
    "B_inversa = np.linalg.inv(B)\n",
    "print(A)\n",
    "print(B)\n",
    "print(B_inversa)\n",
    "print(A_inversa)"
   ]
  },
  {
   "attachments": {
    "2020-10-30_01-57-32-8dce2007fcfb5213355533f0f781608e.png": {
     "image/png": "[encoded data removed]"
    }
   },
   "cell_type": "markdown",
   "id": "e1b264a0",
   "metadata": {},
   "source": [
    "Exercício 2\n",
    "    Matriz Inversa\n",
    "Encontre a inversa da matriz A:\n",
    "\n",
    "![2020-10-30_01-57-32-8dce2007fcfb5213355533f0f781608e.png](attachment:2020-10-30_01-57-32-8dce2007fcfb5213355533f0f781608e.png)\n",
    "\n",
    "Este exercício é uma adaptção de BOLDRINI, J. et al. Álgebra Linear. São Paulo: Harbra, 1986."
   ]
  },
  {
   "cell_type": "code",
   "execution_count": 12,
   "id": "01dee354",
   "metadata": {},
   "outputs": [
    {
     "name": "stdout",
     "output_type": "stream",
     "text": [
      "[[ 4 -1  2 -2]\n",
      " [ 3 -1  0  0]\n",
      " [ 2  3  1  0]\n",
      " [ 0  7  1  1]]\n",
      "[[ -1.  -1.   4.  -2.]\n",
      " [ -3.  -4.  12.  -6.]\n",
      " [ 11.  14. -43.  22.]\n",
      " [ 10.  14. -41.  21.]]\n"
     ]
    }
   ],
   "source": [
    "A = np.array([[4, -1, 2, -2], [3, -1, 0, 0], [2, 3, 1, 0], [0, 7, 1, 1]])\n",
    "A_inversa = np.linalg.inv(A)\n",
    "print(A)\n",
    "print(A_inversa)"
   ]
  },
  {
   "attachments": {
    "2020-10-30_01-58-42-e0b96fa6902b4910e962c0e0fc447fa6.png": {
     "image/png": "[encoded data removed]"
    }
   },
   "cell_type": "markdown",
   "id": "a3dc4ebb",
   "metadata": {},
   "source": [
    "Exercício 3\n",
    "    Matriz Inversa\n",
    "Encontre a inversa da matriz A:\n",
    "\n",
    "![2020-10-30_01-58-42-e0b96fa6902b4910e962c0e0fc447fa6.png](attachment:2020-10-30_01-58-42-e0b96fa6902b4910e962c0e0fc447fa6.png)\n"
   ]
  },
  {
   "cell_type": "code",
   "execution_count": 14,
   "id": "67a51a39",
   "metadata": {},
   "outputs": [
    {
     "name": "stdout",
     "output_type": "stream",
     "text": [
      "[[ 7  0  0  0  0  0  0  0]\n",
      " [ 0  8  0  0  0  0  0  0]\n",
      " [ 0  0 11  0  0  0  0  0]\n",
      " [ 0  0  0  2  0  0  0  0]\n",
      " [ 0  0  0  0  4  0  0  0]\n",
      " [ 0  0  0  0  0  5  0  0]\n",
      " [ 0  0  0  0  0  0  1  0]\n",
      " [ 0  0  0  0  0  0  0  3]]\n"
     ]
    }
   ],
   "source": [
    "A = np.diag([7, 8, 11, 2, 4, 5, 1, 3])\n",
    "A_inversa = np.linalg.inv(A)\n",
    "print(A)"
   ]
  },
  {
   "attachments": {
    "2020-10-30_01-59-52-12f4cbc61567b6e0b6e8ad78c20e1f17.png": {
     "image/png": "[encoded data removed]"
    }
   },
   "cell_type": "markdown",
   "id": "1d2cc37f",
   "metadata": {},
   "source": [
    "Exercício 1\n",
    "    Sistemas Lineares\n",
    "Resolva os sistemas lineares a seguir. Utilize o método np.linalg.solve().\n",
    "\n",
    "![2020-10-30_01-59-52-12f4cbc61567b6e0b6e8ad78c20e1f17.png](attachment:2020-10-30_01-59-52-12f4cbc61567b6e0b6e8ad78c20e1f17.png)"
   ]
  },
  {
   "cell_type": "code",
   "execution_count": 19,
   "id": "906b1a71",
   "metadata": {},
   "outputs": [
    {
     "name": "stdout",
     "output_type": "stream",
     "text": [
      "[[ 6.]\n",
      " [-2.]]\n",
      "[[ 2  3]\n",
      " [ 1 -1]]\n",
      "[[6]\n",
      " [8]]\n",
      "[[2.]\n",
      " [3.]]\n",
      "[[3 1]\n",
      " [1 2]]\n",
      "[[9]\n",
      " [8]]\n"
     ]
    }
   ],
   "source": [
    "#a\n",
    "A= np.array([[2, 3], [1, -1]])\n",
    "B= np.array([[6], [8]])\n",
    "solucao = np.linalg.solve(A, B)\n",
    "print(solucao)\n",
    "print(A)\n",
    "print(B)\n",
    "#b\n",
    "C= np.array([[3, 1], [1, 2]])\n",
    "D= np.array([[9], [8]])\n",
    "solucao1= np.linalg.solve(C, D)\n",
    "print(solucao1)\n",
    "print(C)\n",
    "print(D)"
   ]
  },
  {
   "attachments": {
    "2020-10-30_02-01-32-ab1cd8da59af9be4d822e87410c91ee4.png": {
     "image/png": "[encoded data removed]"
    }
   },
   "cell_type": "markdown",
   "id": "8b3cbc39",
   "metadata": {},
   "source": [
    "Exercício 2    \n",
    "    Sistemas Lineares\n",
    "Resolva o sistema linear abaixo.\n",
    "\n",
    "![2020-10-30_02-01-32-ab1cd8da59af9be4d822e87410c91ee4.png](attachment:2020-10-30_02-01-32-ab1cd8da59af9be4d822e87410c91ee4.png)\n",
    "\n",
    "Adaptação de : STEINBRUCH, A.; WINTERLE, P. Álgebra Linear. São Paulo: McGraw-Hill, 1987."
   ]
  },
  {
   "cell_type": "code",
   "execution_count": 22,
   "id": "9bb0a11f",
   "metadata": {},
   "outputs": [
    {
     "name": "stdout",
     "output_type": "stream",
     "text": [
      "[[ 4.]\n",
      " [ 3.]\n",
      " [-4.]]\n"
     ]
    }
   ],
   "source": [
    "A= np.array([[1, 0, 3], [2, -4, 0], [3, -2, -5]])\n",
    "B= np.array([[-8], [-4], [26]])\n",
    "solucao = np.linalg.solve(A, B)\n",
    "print(solucao)"
   ]
  },
  {
   "attachments": {
    "2020-10-30_02-02-48-f37512e60e4488c5cfe508068e5c197e.png": {
     "image/png": "[encoded data removed]"
    }
   },
   "cell_type": "markdown",
   "id": "9961e96e",
   "metadata": {},
   "source": [
    "Exercício 3    \n",
    "    Sistemas Lineares\n",
    "Resolva o sistema linear abaixo. Utilize o método np.linalg.solve().\n",
    "\n",
    "![2020-10-30_02-02-48-f37512e60e4488c5cfe508068e5c197e.png](attachment:2020-10-30_02-02-48-f37512e60e4488c5cfe508068e5c197e.png)\n",
    "\n",
    "Este exercício é uma adaptção de BOLDRINI, J. et al. Álgebra Linear. São Paulo: Harbra, 1986."
   ]
  },
  {
   "cell_type": "code",
   "execution_count": 5,
   "id": "6d266e52",
   "metadata": {},
   "outputs": [
    {
     "name": "stdout",
     "output_type": "stream",
     "text": [
      "[[ 1.]\n",
      " [-1.]\n",
      " [ 2.]\n",
      " [-2.]]\n",
      "[[ 1  1  1  1]\n",
      " [ 1  1  1 -1]\n",
      " [ 1  1 -1  1]\n",
      " [ 1 -1  1  1]]\n",
      "[[ 0]\n",
      " [ 4]\n",
      " [-4]\n",
      " [ 2]]\n"
     ]
    }
   ],
   "source": [
    "A = np.array([[1, 1, 1, 1], [1, 1, 1, -1], [1, 1, -1, 1], [1, -1, 1, 1]])\n",
    "B = np.array([[0], [4], [-4], [2]])\n",
    "solucao = np.linalg.solve(A, B)\n",
    "print(solucao)\n",
    "print(A)\n",
    "print(B)"
   ]
  },
  {
   "attachments": {
    "2020-10-30_02-04-00-9f400378b306bb174b025d9903ff62c4.png": {
     "image/png": "[encoded data removed]"
    }
   },
   "cell_type": "markdown",
   "id": "3450e6ba",
   "metadata": {},
   "source": [
    "Exercício 4\n",
    "    Sistemas Lineares\n",
    "Resolva o sistema linear abaixo.\n",
    "\n",
    "![2020-10-30_02-04-00-9f400378b306bb174b025d9903ff62c4.png](attachment:2020-10-30_02-04-00-9f400378b306bb174b025d9903ff62c4.png)"
   ]
  },
  {
   "cell_type": "code",
   "execution_count": 8,
   "id": "023d9ad3",
   "metadata": {},
   "outputs": [
    {
     "name": "stdout",
     "output_type": "stream",
     "text": [
      "[ 2. -2.  9.]\n",
      "[[ 3  2  0]\n",
      " [ 1 -1  0]\n",
      " [ 0  5  1]]\n",
      "[ 2  4 -1]\n"
     ]
    }
   ],
   "source": [
    "A = np.array([[3, 2, 0], [1, -1, 0], [0, 5, 1]])\n",
    "B = np.array([2, 4, -1])\n",
    "solucao = np.linalg.solve(A, B)\n",
    "print(solucao)\n",
    "print(A)\n",
    "print(B)"
   ]
  },
  {
   "attachments": {
    "2020-10-30_02-05-12-02b94589bf93ca3c31b1529776323727.png": {
     "image/png": "[encoded data removed]"
    }
   },
   "cell_type": "markdown",
   "id": "cff586bf",
   "metadata": {},
   "source": [
    "Exercício 1\n",
    "    Traço de uma Matriz\n",
    "Obtenha o traço das matrizes abaixo:\n",
    "\n",
    "![2020-10-30_02-05-12-02b94589bf93ca3c31b1529776323727.png](attachment:2020-10-30_02-05-12-02b94589bf93ca3c31b1529776323727.png)\n",
    "\n",
    "Lembrete: o traço de uma matriz é definido como a soma dos elementos da sua diagonal principal. Desta forma, facilmente podemos dizer que o traço da matriz A é 5, da matriz B 16 e da matriz C 2. Use o método matrix.trace()."
   ]
  },
  {
   "cell_type": "code",
   "execution_count": 10,
   "id": "c6d08392",
   "metadata": {},
   "outputs": [
    {
     "name": "stdout",
     "output_type": "stream",
     "text": [
      "5\n",
      "16\n",
      "2\n"
     ]
    }
   ],
   "source": [
    "A = np.array([[1, 2], [3, 4]])\n",
    "B = np.array([[10, 0, 11], [-7, 2, 5], [45, 78, 4]])\n",
    "C = np.array([[4, 2, 11, 14], [0, -9, 1, 3], [-3, 4, 5, 8], [0, 1, 1, 2]])\n",
    "A_trace = A.trace()\n",
    "B_trace = B.trace()\n",
    "C_trace = C.trace()\n",
    "print(A_trace)\n",
    "print(B_trace)\n",
    "print(C_trace)"
   ]
  },
  {
   "attachments": {
    "2020-10-30_02-06-17-b9d1ebb09c6bfe5aa6b2a9d6944cb812.png": {
     "image/png": "[encoded data removed]"
    }
   },
   "cell_type": "markdown",
   "id": "1bda5c80",
   "metadata": {},
   "source": [
    "Posto (rank) - Exercício 1\n",
    "Obtenha o posto (ou rank) da matriz K. Use o método np.linalg.matrix_rank().\n",
    "\n",
    "![2020-10-30_02-06-17-b9d1ebb09c6bfe5aa6b2a9d6944cb812.png](attachment:2020-10-30_02-06-17-b9d1ebb09c6bfe5aa6b2a9d6944cb812.png)\n",
    "\n",
    "Para mais informações: https://pt.wikipedia.org/wiki/Posto_matricial.\n",
    "\n",
    "Este exercício é uma adaptção de BOLDRINI, J. et al. Álgebra Linear. São Paulo: Harbra, 1986."
   ]
  },
  {
   "cell_type": "code",
   "execution_count": 13,
   "id": "12460e7a",
   "metadata": {},
   "outputs": [
    {
     "name": "stdout",
     "output_type": "stream",
     "text": [
      "2\n",
      "[[ 2 -1  3]\n",
      " [ 1  4  2]\n",
      " [ 1 -5  1]\n",
      " [ 4 16  8]]\n"
     ]
    }
   ],
   "source": [
    "A = np.array([[2, -1, 3], [1, 4, 2], [1, -5, 1], [4, 16, 8]])\n",
    "A_posto = np.linalg.matrix_rank(A)\n",
    "print(A_posto)\n",
    "print(A)"
   ]
  },
  {
   "attachments": {
    "2020-10-30_02-09-10-667517981b51d1fd384ccf2b5c17aef6.png": {
     "image/png": "[encoded data removed]"
    }
   },
   "cell_type": "markdown",
   "id": "7480c997",
   "metadata": {},
   "source": [
    "Exercício 1\n",
    "    Autovalor/Autovetor\n",
    "Calcule os autovalores associadoas a matriz A. Utilize o método np.linalg.eigvals().\n",
    "\n",
    "![2020-10-30_02-09-10-667517981b51d1fd384ccf2b5c17aef6.png](attachment:2020-10-30_02-09-10-667517981b51d1fd384ccf2b5c17aef6.png)\n",
    "\n",
    "Adaptado de : STEINBRUCH, A.; WINTERLE, P. Álgebra Linear. São Paulo: McGraw-Hill, 1987."
   ]
  },
  {
   "cell_type": "code",
   "execution_count": 14,
   "id": "41221193",
   "metadata": {},
   "outputs": [
    {
     "name": "stdout",
     "output_type": "stream",
     "text": [
      "[2. 4.]\n"
     ]
    }
   ],
   "source": [
    "A = np.array([[1, 3], [-1, 5]])\n",
    "autovalores = np.linalg.eigvals(A)\n",
    "print(autovalores)"
   ]
  }
 ],
 "metadata": {
  "kernelspec": {
   "display_name": "Python 3 (ipykernel)",
   "language": "python",
   "name": "python3"
  },
  "language_info": {
   "codemirror_mode": {
    "name": "ipython",
    "version": 3
   },
   "file_extension": ".py",
   "mimetype": "text/x-python",
   "name": "python",
   "nbconvert_exporter": "python",
   "pygments_lexer": "ipython3",
   "version": "3.9.7"
  }
 },
 "nbformat": 4,
 "nbformat_minor": 5
}
